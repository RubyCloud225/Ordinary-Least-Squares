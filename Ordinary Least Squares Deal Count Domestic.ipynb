{
 "cells": [
  {
   "cell_type": "markdown",
   "id": "3daa3352-a17f-4c09-81eb-56de4929cb0c",
   "metadata": {},
   "source": [
    "import pandas as pd\n",
    "import statsmodels.formula.api as sm\n",
    "import matplotlib.pyplot as plt\n",
    "from scipy import stats"
   ]
  },
  {
   "cell_type": "markdown",
   "id": "f5ef6038-1661-4551-ba81-fb91d707133d",
   "metadata": {},
   "source": [
    "df = pd.read_csv(\"Deal Count.csv\")"
   ]
  },
  {
   "cell_type": "markdown",
   "id": "4c3fea14-66ff-4ff2-9819-55a19fcf4ce7",
   "metadata": {},
   "source": [
    "X= df['COVID Domestic ']\n",
    "Y = df['MV Domestic']\n",
    "X2= df['SOX Domestic']\n",
    "X3= df['COVID Cross Border']\n",
    "X4= df['SOX Cross Border']\n",
    "Y2= df['MV Cross border']"
   ]
  },
  {
   "cell_type": "markdown",
   "id": "e942aeba-c33e-4339-895e-368eef29041c",
   "metadata": {},
   "source": [
    "slope, intercept, r, p, std_err = stats.linregress(X, Y)"
   ]
  },
  {
   "cell_type": "markdown",
   "id": "76fd11b5-6751-475d-9be6-ceb992c5ec2d",
   "metadata": {},
   "source": [
    "def myfunc(x):\n",
    "    return slope * X + intercept"
   ]
  },
  {
   "cell_type": "markdown",
   "id": "5d37f47b-fb4a-4c36-9e82-1f32e5dfcc4d",
   "metadata": {},
   "source": [
    "mymodel = list(map(myfunc, X))"
   ]
  },
  {
   "cell_type": "markdown",
   "id": "964e3122-7ee6-4e26-819e-c410d8301029",
   "metadata": {},
   "source": [
    "plt.scatter(X, Y)\n",
    "plt.plot(X, mymodel)\n",
    "plt.show()"
   ]
  },
  {
   "cell_type": "markdown",
   "id": "5b38edd3-2691-44cb-b0f0-1fe1c7431469",
   "metadata": {},
   "source": [
    "print(r)"
   ]
  },
  {
   "cell_type": "markdown",
   "id": "862baa6d-91a0-46e6-9095-ba626d8d0c84",
   "metadata": {},
   "source": [
    "df.corr()"
   ]
  },
  {
   "cell_type": "markdown",
   "id": "8c3d12f8-febc-4c00-aa52-a065572a3767",
   "metadata": {},
   "source": [
    "result = sm.ols(formula=\"Y ~ X + X2\", data=df).fit()\n",
    "print(result.params)"
   ]
  },
  {
   "cell_type": "markdown",
   "id": "3dd25d29-dc44-471d-99d5-679a6625edf1",
   "metadata": {},
   "source": [
    "print(result.summary())"
   ]
  },
  {
   "cell_type": "markdown",
   "id": "dc245c83-5ab5-4199-8299-8fde078dfe26",
   "metadata": {},
   "source": [
    "result2 = sm.ols(formula=\"Y2 ~ X3 + X4\", data=df).fit()\n",
    "print(result2.params)"
   ]
  },
  {
   "cell_type": "markdown",
   "id": "7dcdc757-2537-45b2-9aea-e3bbbeb67a38",
   "metadata": {},
   "source": [
    "print(result2.summary())"
   ]
  },
  {
   "cell_type": "markdown",
   "id": "f106a1ac-f85c-4c30-aa36-052600805bea",
   "metadata": {},
   "source": []
  }
 ],
 "metadata": {
  "kernelspec": {
   "display_name": "Python 3 (ipykernel)",
   "language": "python",
   "name": "python3"
  },
  "language_info": {
   "codemirror_mode": {
    "name": "ipython",
    "version": 3
   },
   "file_extension": ".py",
   "mimetype": "text/x-python",
   "name": "python",
   "nbconvert_exporter": "python",
   "pygments_lexer": "ipython3",
   "version": "3.9.7"
  }
 },
 "nbformat": 4,
 "nbformat_minor": 5
}

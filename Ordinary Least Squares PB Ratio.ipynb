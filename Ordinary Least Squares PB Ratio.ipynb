{
 "cells": [
  {
   "cell_type": "code",
   "execution_count": 1,
   "id": "037f8453-6269-4c3d-a480-1ba21ca1a83d",
   "metadata": {},
   "outputs": [],
   "source": [
    "import pandas as pd\n",
    "import statsmodels.formula.api as sm\n",
    "import matplotlib.pyplot as plt\n",
    "from scipy import stats"
   ]
  },
  {
   "cell_type": "code",
   "execution_count": 2,
   "id": "d10b885e-2a47-4659-b3bf-6e88a2d98d9f",
   "metadata": {},
   "outputs": [],
   "source": [
    "df = pd.read_csv(\"price to book ratio.csv\")"
   ]
  },
  {
   "cell_type": "code",
   "execution_count": 3,
   "id": "3f46dc63-5fb1-4345-9474-94341652072d",
   "metadata": {},
   "outputs": [],
   "source": [
    "X= df['COVID PB Ratio ']\n",
    "Y = df['MV PB Ratio ']"
   ]
  },
  {
   "cell_type": "code",
   "execution_count": 4,
   "id": "3269c6b3-de46-4a10-9bae-f8f13e5249c2",
   "metadata": {},
   "outputs": [],
   "source": [
    "slope, intercept, r, p, std_err = stats.linregress(X, Y)"
   ]
  },
  {
   "cell_type": "code",
   "execution_count": 5,
   "id": "76669086-15fe-48af-a9eb-6f23c9dfbc8b",
   "metadata": {},
   "outputs": [],
   "source": [
    "def myfunc(x):\n",
    "    return slope * X + intercept"
   ]
  },
  {
   "cell_type": "code",
   "execution_count": 6,
   "id": "2428bdd0-eb0e-456b-8be5-7f2f7836058a",
   "metadata": {},
   "outputs": [],
   "source": [
    "mymodel = list(map(myfunc, X))"
   ]
  },
  {
   "cell_type": "code",
   "execution_count": 7,
   "id": "c09d594a-75a0-4604-8324-64ba223bf9c8",
   "metadata": {},
   "outputs": [
    {
     "data": {
      "image/png": "[encoded data removed]",
      "text/plain": [
       "<Figure size 432x288 with 1 Axes>"
      ]
     },
     "metadata": {
      "needs_background": "light"
     },
     "output_type": "display_data"
    }
   ],
   "source": [
    "plt.scatter(X, Y)\n",
    "plt.plot(X, mymodel)\n",
    "plt.show()"
   ]
  },
  {
   "cell_type": "code",
   "execution_count": 8,
   "id": "5f06bbf2-17b9-4180-ae8f-99545df414f3",
   "metadata": {},
   "outputs": [
    {
     "name": "stdout",
     "output_type": "stream",
     "text": [
      "-0.02665372330941218\n"
     ]
    }
   ],
   "source": [
    "print(r)"
   ]
  },
  {
   "cell_type": "code",
   "execution_count": 9,
   "id": "ea472e7d-0e2a-43ff-9e42-c380842448e1",
   "metadata": {},
   "outputs": [
    {
     "data": {
      "text/html": [
       "<div>\n",
       "<style scoped>\n",
       "    .dataframe tbody tr th:only-of-type {\n",
       "        vertical-align: middle;\n",
       "    }\n",
       "\n",
       "    .dataframe tbody tr th {\n",
       "        vertical-align: top;\n",
       "    }\n",
       "\n",
       "    .dataframe thead th {\n",
       "        text-align: right;\n",
       "    }\n",
       "</style>\n",
       "<table border=\"1\" class=\"dataframe\">\n",
       "  <thead>\n",
       "    <tr style=\"text-align: right;\">\n",
       "      <th></th>\n",
       "      <th>MV PB Ratio</th>\n",
       "      <th>COVID PB Ratio</th>\n",
       "    </tr>\n",
       "  </thead>\n",
       "  <tbody>\n",
       "    <tr>\n",
       "      <th>MV PB Ratio</th>\n",
       "      <td>1.000000</td>\n",
       "      <td>-0.026654</td>\n",
       "    </tr>\n",
       "    <tr>\n",
       "      <th>COVID PB Ratio</th>\n",
       "      <td>-0.026654</td>\n",
       "      <td>1.000000</td>\n",
       "    </tr>\n",
       "  </tbody>\n",
       "</table>\n",
       "</div>"
      ],
      "text/plain": [
       "                 MV PB Ratio   COVID PB Ratio \n",
       "MV PB Ratio          1.000000        -0.026654\n",
       "COVID PB Ratio      -0.026654         1.000000"
      ]
     },
     "execution_count": 9,
     "metadata": {},
     "output_type": "execute_result"
    }
   ],
   "source": [
    "df.corr()"
   ]
  },
  {
   "cell_type": "code",
   "execution_count": 10,
   "id": "f94f9b5d-4d93-4e31-8916-127f582893c1",
   "metadata": {},
   "outputs": [
    {
     "name": "stdout",
     "output_type": "stream",
     "text": [
      "Intercept    76.459076\n",
      "X            -0.113984\n",
      "dtype: float64\n"
     ]
    }
   ],
   "source": [
    "result = sm.ols(formula=\"Y ~ X\", data=df).fit()\n",
    "print(result.params)"
   ]
  },
  {
   "cell_type": "code",
   "execution_count": 11,
   "id": "3445f4f1-a00b-4269-830b-6b64235f46cf",
   "metadata": {},
   "outputs": [
    {
     "name": "stdout",
     "output_type": "stream",
     "text": [
      "                            OLS Regression Results                            \n",
      "==============================================================================\n",
      "Dep. Variable:                      Y   R-squared:                       0.001\n",
      "Model:                            OLS   Adj. R-squared:                 -0.024\n",
      "Method:                 Least Squares   F-statistic:                   0.02915\n",
      "Date:                Fri, 09 Sep 2022   Prob (F-statistic):              0.865\n",
      "Time:                        00:15:07   Log-Likelihood:                -349.36\n",
      "No. Observations:                  43   AIC:                             702.7\n",
      "Df Residuals:                      41   BIC:                             706.2\n",
      "Df Model:                           1                                         \n",
      "Covariance Type:            nonrobust                                         \n",
      "==============================================================================\n",
      "                 coef    std err          t      P>|t|      [0.025      0.975]\n",
      "------------------------------------------------------------------------------\n",
      "Intercept     76.4591    133.635      0.572      0.570    -193.423     346.341\n",
      "X             -0.1140      0.668     -0.171      0.865      -1.462       1.234\n",
      "==============================================================================\n",
      "Omnibus:                       74.912   Durbin-Watson:                   2.787\n",
      "Prob(Omnibus):                  0.000   Jarque-Bera (JB):             1341.761\n",
      "Skew:                           4.132   Prob(JB):                    4.37e-292\n",
      "Kurtosis:                      29.088   Cond. No.                         210.\n",
      "==============================================================================\n",
      "\n",
      "Notes:\n",
      "[1] Standard Errors assume that the covariance matrix of the errors is correctly specified.\n"
     ]
    }
   ],
   "source": [
    "print(result.summary())"
   ]
  },
  {
   "cell_type": "code",
   "execution_count": null,
   "id": "47b1ba90-a729-4546-af20-06b6e768bca3",
   "metadata": {},
   "outputs": [],
   "source": []
  }
 ],
 "metadata": {
  "kernelspec": {
   "display_name": "Python 3 (ipykernel)",
   "language": "python",
   "name": "python3"
  },
  "language_info": {
   "codemirror_mode": {
    "name": "ipython",
    "version": 3
   },
   "file_extension": ".py",
   "mimetype": "text/x-python",
   "name": "python",
   "nbconvert_exporter": "python",
   "pygments_lexer": "ipython3",
   "version": "3.9.7"
  }
 },
 "nbformat": 4,
 "nbformat_minor": 5
}

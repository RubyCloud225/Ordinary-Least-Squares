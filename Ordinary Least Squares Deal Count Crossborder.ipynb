{
 "cells": [
  {
   "cell_type": "code",
   "execution_count": 2,
   "id": "037f8453-6269-4c3d-a480-1ba21ca1a83d",
   "metadata": {},
   "outputs": [],
   "source": [
    "import pandas as pd\n",
    "import statsmodels.formula.api as sm\n",
    "import matplotlib.pyplot as plt\n",
    "from scipy import stats"
   ]
  },
  {
   "cell_type": "code",
   "execution_count": 3,
   "id": "d10b885e-2a47-4659-b3bf-6e88a2d98d9f",
   "metadata": {},
   "outputs": [],
   "source": [
    "df = pd.read_csv(\"Sector Dataset.csv\")"
   ]
  },
  {
   "cell_type": "code",
   "execution_count": 24,
   "id": "3f46dc63-5fb1-4345-9474-94341652072d",
   "metadata": {},
   "outputs": [],
   "source": [
    "X= df['COVID Financials']\n",
    "Y = df['MV Financials']\n",
    "X2= df['SOX Financials']\n",
    "X3= df['SOX High Technology']\n",
    "X4= df['COVID High Technology']\n",
    "Y2= df['MV High Technology']\n",
    "X5= df['COVID Media and Entertainment']\n",
    "X6= df['SOX Media and Entertainment']\n",
    "Y3= df['MV Media and Entertainment']"
   ]
  },
  {
   "cell_type": "code",
   "execution_count": 25,
   "id": "3269c6b3-de46-4a10-9bae-f8f13e5249c2",
   "metadata": {},
   "outputs": [],
   "source": [
    "slope, intercept, r, p, std_err = stats.linregress(X, Y)"
   ]
  },
  {
   "cell_type": "code",
   "execution_count": 26,
   "id": "76669086-15fe-48af-a9eb-6f23c9dfbc8b",
   "metadata": {},
   "outputs": [],
   "source": [
    "def myfunc(x):\n",
    "    return slope * X + intercept"
   ]
  },
  {
   "cell_type": "code",
   "execution_count": 27,
   "id": "2428bdd0-eb0e-456b-8be5-7f2f7836058a",
   "metadata": {},
   "outputs": [],
   "source": [
    "mymodel = list(map(myfunc, X))"
   ]
  },
  {
   "cell_type": "code",
   "execution_count": 28,
   "id": "c09d594a-75a0-4604-8324-64ba223bf9c8",
   "metadata": {},
   "outputs": [
    {
     "data": {
      "image/png": "[encoded data removed]",
      "text/plain": [
       "<Figure size 432x288 with 1 Axes>"
      ]
     },
     "metadata": {
      "needs_background": "light"
     },
     "output_type": "display_data"
    }
   ],
   "source": [
    "plt.scatter(X, Y)\n",
    "plt.plot(X, mymodel)\n",
    "plt.show()"
   ]
  },
  {
   "cell_type": "code",
   "execution_count": 29,
   "id": "5f06bbf2-17b9-4180-ae8f-99545df414f3",
   "metadata": {},
   "outputs": [
    {
     "name": "stdout",
     "output_type": "stream",
     "text": [
      "0.6362202657993021\n"
     ]
    }
   ],
   "source": [
    "print(r)"
   ]
  },
  {
   "cell_type": "code",
   "execution_count": 30,
   "id": "ea472e7d-0e2a-43ff-9e42-c380842448e1",
   "metadata": {},
   "outputs": [
    {
     "data": {
      "text/html": [
       "<div>\n",
       "<style scoped>\n",
       "    .dataframe tbody tr th:only-of-type {\n",
       "        vertical-align: middle;\n",
       "    }\n",
       "\n",
       "    .dataframe tbody tr th {\n",
       "        vertical-align: top;\n",
       "    }\n",
       "\n",
       "    .dataframe thead th {\n",
       "        text-align: right;\n",
       "    }\n",
       "</style>\n",
       "<table border=\"1\" class=\"dataframe\">\n",
       "  <thead>\n",
       "    <tr style=\"text-align: right;\">\n",
       "      <th></th>\n",
       "      <th>SOX Financials</th>\n",
       "      <th>SOX High Technology</th>\n",
       "      <th>SOX Media and Entertainment</th>\n",
       "      <th>COVID Financials</th>\n",
       "      <th>COVID High Technology</th>\n",
       "      <th>COVID Media and Entertainment</th>\n",
       "      <th>MV Financials</th>\n",
       "      <th>MV High Technology</th>\n",
       "      <th>MV Media and Entertainment</th>\n",
       "    </tr>\n",
       "  </thead>\n",
       "  <tbody>\n",
       "    <tr>\n",
       "      <th>SOX Financials</th>\n",
       "      <td>1.000000</td>\n",
       "      <td>-0.239578</td>\n",
       "      <td>0.224479</td>\n",
       "      <td>0.065032</td>\n",
       "      <td>0.001107</td>\n",
       "      <td>-0.139910</td>\n",
       "      <td>-0.109593</td>\n",
       "      <td>0.290016</td>\n",
       "      <td>0.340082</td>\n",
       "    </tr>\n",
       "    <tr>\n",
       "      <th>SOX High Technology</th>\n",
       "      <td>-0.239578</td>\n",
       "      <td>1.000000</td>\n",
       "      <td>-0.154357</td>\n",
       "      <td>-0.099953</td>\n",
       "      <td>-0.065870</td>\n",
       "      <td>-0.178525</td>\n",
       "      <td>0.305509</td>\n",
       "      <td>0.240431</td>\n",
       "      <td>-0.045237</td>\n",
       "    </tr>\n",
       "    <tr>\n",
       "      <th>SOX Media and Entertainment</th>\n",
       "      <td>0.224479</td>\n",
       "      <td>-0.154357</td>\n",
       "      <td>1.000000</td>\n",
       "      <td>0.201597</td>\n",
       "      <td>0.110036</td>\n",
       "      <td>0.036494</td>\n",
       "      <td>0.030913</td>\n",
       "      <td>-0.393188</td>\n",
       "      <td>-0.545584</td>\n",
       "    </tr>\n",
       "    <tr>\n",
       "      <th>COVID Financials</th>\n",
       "      <td>0.065032</td>\n",
       "      <td>-0.099953</td>\n",
       "      <td>0.201597</td>\n",
       "      <td>1.000000</td>\n",
       "      <td>0.595809</td>\n",
       "      <td>0.677199</td>\n",
       "      <td>0.636220</td>\n",
       "      <td>-0.012962</td>\n",
       "      <td>-0.248923</td>\n",
       "    </tr>\n",
       "    <tr>\n",
       "      <th>COVID High Technology</th>\n",
       "      <td>0.001107</td>\n",
       "      <td>-0.065870</td>\n",
       "      <td>0.110036</td>\n",
       "      <td>0.595809</td>\n",
       "      <td>1.000000</td>\n",
       "      <td>0.827926</td>\n",
       "      <td>0.577631</td>\n",
       "      <td>0.413160</td>\n",
       "      <td>-0.415293</td>\n",
       "    </tr>\n",
       "    <tr>\n",
       "      <th>COVID Media and Entertainment</th>\n",
       "      <td>-0.139910</td>\n",
       "      <td>-0.178525</td>\n",
       "      <td>0.036494</td>\n",
       "      <td>0.677199</td>\n",
       "      <td>0.827926</td>\n",
       "      <td>1.000000</td>\n",
       "      <td>0.462996</td>\n",
       "      <td>0.212416</td>\n",
       "      <td>-0.211227</td>\n",
       "    </tr>\n",
       "    <tr>\n",
       "      <th>MV Financials</th>\n",
       "      <td>-0.109593</td>\n",
       "      <td>0.305509</td>\n",
       "      <td>0.030913</td>\n",
       "      <td>0.636220</td>\n",
       "      <td>0.577631</td>\n",
       "      <td>0.462996</td>\n",
       "      <td>1.000000</td>\n",
       "      <td>0.139467</td>\n",
       "      <td>-0.338594</td>\n",
       "    </tr>\n",
       "    <tr>\n",
       "      <th>MV High Technology</th>\n",
       "      <td>0.290016</td>\n",
       "      <td>0.240431</td>\n",
       "      <td>-0.393188</td>\n",
       "      <td>-0.012962</td>\n",
       "      <td>0.413160</td>\n",
       "      <td>0.212416</td>\n",
       "      <td>0.139467</td>\n",
       "      <td>1.000000</td>\n",
       "      <td>0.218709</td>\n",
       "    </tr>\n",
       "    <tr>\n",
       "      <th>MV Media and Entertainment</th>\n",
       "      <td>0.340082</td>\n",
       "      <td>-0.045237</td>\n",
       "      <td>-0.545584</td>\n",
       "      <td>-0.248923</td>\n",
       "      <td>-0.415293</td>\n",
       "      <td>-0.211227</td>\n",
       "      <td>-0.338594</td>\n",
       "      <td>0.218709</td>\n",
       "      <td>1.000000</td>\n",
       "    </tr>\n",
       "  </tbody>\n",
       "</table>\n",
       "</div>"
      ],
      "text/plain": [
       "                               SOX Financials  SOX High Technology  \\\n",
       "SOX Financials                       1.000000            -0.239578   \n",
       "SOX High Technology                 -0.239578             1.000000   \n",
       "SOX Media and Entertainment          0.224479            -0.154357   \n",
       "COVID Financials                     0.065032            -0.099953   \n",
       "COVID High Technology                0.001107            -0.065870   \n",
       "COVID Media and Entertainment       -0.139910            -0.178525   \n",
       "MV Financials                       -0.109593             0.305509   \n",
       "MV High Technology                   0.290016             0.240431   \n",
       "MV Media and Entertainment           0.340082            -0.045237   \n",
       "\n",
       "                               SOX Media and Entertainment  COVID Financials  \\\n",
       "SOX Financials                                    0.224479          0.065032   \n",
       "SOX High Technology                              -0.154357         -0.099953   \n",
       "SOX Media and Entertainment                       1.000000          0.201597   \n",
       "COVID Financials                                  0.201597          1.000000   \n",
       "COVID High Technology                             0.110036          0.595809   \n",
       "COVID Media and Entertainment                     0.036494          0.677199   \n",
       "MV Financials                                     0.030913          0.636220   \n",
       "MV High Technology                               -0.393188         -0.012962   \n",
       "MV Media and Entertainment                       -0.545584         -0.248923   \n",
       "\n",
       "                               COVID High Technology  \\\n",
       "SOX Financials                              0.001107   \n",
       "SOX High Technology                        -0.065870   \n",
       "SOX Media and Entertainment                 0.110036   \n",
       "COVID Financials                            0.595809   \n",
       "COVID High Technology                       1.000000   \n",
       "COVID Media and Entertainment               0.827926   \n",
       "MV Financials                               0.577631   \n",
       "MV High Technology                          0.413160   \n",
       "MV Media and Entertainment                 -0.415293   \n",
       "\n",
       "                               COVID Media and Entertainment  MV Financials  \\\n",
       "SOX Financials                                     -0.139910      -0.109593   \n",
       "SOX High Technology                                -0.178525       0.305509   \n",
       "SOX Media and Entertainment                         0.036494       0.030913   \n",
       "COVID Financials                                    0.677199       0.636220   \n",
       "COVID High Technology                               0.827926       0.577631   \n",
       "COVID Media and Entertainment                       1.000000       0.462996   \n",
       "MV Financials                                       0.462996       1.000000   \n",
       "MV High Technology                                  0.212416       0.139467   \n",
       "MV Media and Entertainment                         -0.211227      -0.338594   \n",
       "\n",
       "                               MV High Technology  MV Media and Entertainment  \n",
       "SOX Financials                           0.290016                    0.340082  \n",
       "SOX High Technology                      0.240431                   -0.045237  \n",
       "SOX Media and Entertainment             -0.393188                   -0.545584  \n",
       "COVID Financials                        -0.012962                   -0.248923  \n",
       "COVID High Technology                    0.413160                   -0.415293  \n",
       "COVID Media and Entertainment            0.212416                   -0.211227  \n",
       "MV Financials                            0.139467                   -0.338594  \n",
       "MV High Technology                       1.000000                    0.218709  \n",
       "MV Media and Entertainment               0.218709                    1.000000  "
      ]
     },
     "execution_count": 30,
     "metadata": {},
     "output_type": "execute_result"
    }
   ],
   "source": [
    "df.corr()"
   ]
  },
  {
   "cell_type": "code",
   "execution_count": 31,
   "id": "8a6f4a8f-0b37-4fbf-825d-f70618abc93e",
   "metadata": {},
   "outputs": [
    {
     "name": "stdout",
     "output_type": "stream",
     "text": [
      "Intercept    8.327908\n",
      "X            0.619623\n",
      "X2          -0.122328\n",
      "dtype: float64\n"
     ]
    }
   ],
   "source": [
    "result = sm.ols(formula=\"Y ~ X + X2\", data=df).fit()\n",
    "print(result.params)"
   ]
  },
  {
   "cell_type": "code",
   "execution_count": 32,
   "id": "5e40f611-3cfe-4676-8f70-972cf9a4e15f",
   "metadata": {},
   "outputs": [
    {
     "name": "stdout",
     "output_type": "stream",
     "text": [
      "                            OLS Regression Results                            \n",
      "==============================================================================\n",
      "Dep. Variable:                      Y   R-squared:                       0.428\n",
      "Model:                            OLS   Adj. R-squared:                  0.313\n",
      "Method:                 Least Squares   F-statistic:                     3.736\n",
      "Date:                Sun, 11 Sep 2022   Prob (F-statistic):             0.0614\n",
      "Time:                        20:46:49   Log-Likelihood:                -38.645\n",
      "No. Observations:                  13   AIC:                             83.29\n",
      "Df Residuals:                      10   BIC:                             84.98\n",
      "Df Model:                           2                                         \n",
      "Covariance Type:            nonrobust                                         \n",
      "==============================================================================\n",
      "                 coef    std err          t      P>|t|      [0.025      0.975]\n",
      "------------------------------------------------------------------------------\n",
      "Intercept      8.3279      9.919      0.840      0.421     -13.773      30.429\n",
      "X              0.6196      0.230      2.695      0.023       0.107       1.132\n",
      "X2            -0.1223      0.193     -0.632      0.541      -0.553       0.309\n",
      "==============================================================================\n",
      "Omnibus:                        0.401   Durbin-Watson:                   1.590\n",
      "Prob(Omnibus):                  0.818   Jarque-Bera (JB):                0.432\n",
      "Skew:                          -0.328   Prob(JB):                        0.806\n",
      "Kurtosis:                       2.394   Cond. No.                         312.\n",
      "==============================================================================\n",
      "\n",
      "Notes:\n",
      "[1] Standard Errors assume that the covariance matrix of the errors is correctly specified.\n"
     ]
    },
    {
     "name": "stderr",
     "output_type": "stream",
     "text": [
      "C:\\Users\\tabbs\\anaconda3\\lib\\site-packages\\scipy\\stats\\stats.py:1541: UserWarning: kurtosistest only valid for n>=20 ... continuing anyway, n=13\n",
      "  warnings.warn(\"kurtosistest only valid for n>=20 ... continuing \"\n"
     ]
    }
   ],
   "source": [
    "print(result.summary())"
   ]
  },
  {
   "cell_type": "code",
   "execution_count": 36,
   "id": "30efca2f-207b-4f64-9b04-a5df2a2c1ffc",
   "metadata": {},
   "outputs": [
    {
     "name": "stdout",
     "output_type": "stream",
     "text": [
      "Intercept    26.755129\n",
      "X3            0.650290\n",
      "X4            0.101448\n",
      "dtype: float64\n"
     ]
    }
   ],
   "source": [
    "result2 = sm.ols(formula=\"Y2 ~ X3 + X4\", data=df).fit()\n",
    "print(result2.params)"
   ]
  },
  {
   "cell_type": "code",
   "execution_count": 37,
   "id": "8b32863c-b7da-48d8-9fd5-3f62287bb636",
   "metadata": {},
   "outputs": [
    {
     "name": "stdout",
     "output_type": "stream",
     "text": [
      "                            OLS Regression Results                            \n",
      "==============================================================================\n",
      "Dep. Variable:                     Y2   R-squared:                       0.243\n",
      "Model:                            OLS   Adj. R-squared:                  0.091\n",
      "Method:                 Least Squares   F-statistic:                     1.602\n",
      "Date:                Sun, 11 Sep 2022   Prob (F-statistic):              0.249\n",
      "Time:                        20:48:03   Log-Likelihood:                -48.053\n",
      "No. Observations:                  13   AIC:                             102.1\n",
      "Df Residuals:                      10   BIC:                             103.8\n",
      "Df Model:                           2                                         \n",
      "Covariance Type:            nonrobust                                         \n",
      "==============================================================================\n",
      "                 coef    std err          t      P>|t|      [0.025      0.975]\n",
      "------------------------------------------------------------------------------\n",
      "Intercept     26.7551     32.478      0.824      0.429     -45.611      99.122\n",
      "X3             0.6503      0.667      0.975      0.353      -0.836       2.137\n",
      "X4             0.1014      0.065      1.562      0.149      -0.043       0.246\n",
      "==============================================================================\n",
      "Omnibus:                        2.653   Durbin-Watson:                   1.484\n",
      "Prob(Omnibus):                  0.265   Jarque-Bera (JB):                1.215\n",
      "Skew:                           0.361   Prob(JB):                        0.545\n",
      "Kurtosis:                       1.687   Cond. No.                     1.77e+03\n",
      "==============================================================================\n",
      "\n",
      "Notes:\n",
      "[1] Standard Errors assume that the covariance matrix of the errors is correctly specified.\n",
      "[2] The condition number is large, 1.77e+03. This might indicate that there are\n",
      "strong multicollinearity or other numerical problems.\n"
     ]
    },
    {
     "name": "stderr",
     "output_type": "stream",
     "text": [
      "C:\\Users\\tabbs\\anaconda3\\lib\\site-packages\\scipy\\stats\\stats.py:1541: UserWarning: kurtosistest only valid for n>=20 ... continuing anyway, n=13\n",
      "  warnings.warn(\"kurtosistest only valid for n>=20 ... continuing \"\n"
     ]
    }
   ],
   "source": [
    "print(result2.summary())"
   ]
  },
  {
   "cell_type": "code",
   "execution_count": 38,
   "id": "6bacbcdc-14d4-4779-a88b-8e7c754ef1c3",
   "metadata": {},
   "outputs": [
    {
     "name": "stdout",
     "output_type": "stream",
     "text": [
      "Intercept    35.338595\n",
      "X5           -0.116313\n",
      "X6           -0.565475\n",
      "dtype: float64\n"
     ]
    }
   ],
   "source": [
    "result3 = sm.ols(formula=\"Y3 ~ X5 + X6\", data=df).fit()\n",
    "print(result3.params)"
   ]
  },
  {
   "cell_type": "code",
   "execution_count": 39,
   "id": "37a4ed55-6721-45e2-b74d-1d1bd85b7bbd",
   "metadata": {},
   "outputs": [
    {
     "name": "stdout",
     "output_type": "stream",
     "text": [
      "                            OLS Regression Results                            \n",
      "==============================================================================\n",
      "Dep. Variable:                     Y3   R-squared:                       0.334\n",
      "Model:                            OLS   Adj. R-squared:                  0.201\n",
      "Method:                 Least Squares   F-statistic:                     2.511\n",
      "Date:                Sun, 11 Sep 2022   Prob (F-statistic):              0.131\n",
      "Time:                        20:48:35   Log-Likelihood:                -34.393\n",
      "No. Observations:                  13   AIC:                             74.79\n",
      "Df Residuals:                      10   BIC:                             76.48\n",
      "Df Model:                           2                                         \n",
      "Covariance Type:            nonrobust                                         \n",
      "==============================================================================\n",
      "                 coef    std err          t      P>|t|      [0.025      0.975]\n",
      "------------------------------------------------------------------------------\n",
      "Intercept     35.3386      5.953      5.936      0.000      22.074      48.603\n",
      "X5            -0.1163      0.157     -0.742      0.475      -0.466       0.233\n",
      "X6            -0.5655      0.271     -2.086      0.064      -1.169       0.039\n",
      "==============================================================================\n",
      "Omnibus:                        1.086   Durbin-Watson:                   1.983\n",
      "Prob(Omnibus):                  0.581   Jarque-Bera (JB):                0.709\n",
      "Skew:                           0.069   Prob(JB):                        0.701\n",
      "Kurtosis:                       1.864   Cond. No.                         152.\n",
      "==============================================================================\n",
      "\n",
      "Notes:\n",
      "[1] Standard Errors assume that the covariance matrix of the errors is correctly specified.\n"
     ]
    },
    {
     "name": "stderr",
     "output_type": "stream",
     "text": [
      "C:\\Users\\tabbs\\anaconda3\\lib\\site-packages\\scipy\\stats\\stats.py:1541: UserWarning: kurtosistest only valid for n>=20 ... continuing anyway, n=13\n",
      "  warnings.warn(\"kurtosistest only valid for n>=20 ... continuing \"\n"
     ]
    }
   ],
   "source": [
    "print(result3.summary())"
   ]
  },
  {
   "cell_type": "code",
   "execution_count": null,
   "id": "70385be0-9ce8-466b-9bab-0529bc448bae",
   "metadata": {},
   "outputs": [],
   "source": []
  }
 ],
 "metadata": {
  "kernelspec": {
   "display_name": "Python 3 (ipykernel)",
   "language": "python",
   "name": "python3"
  },
  "language_info": {
   "codemirror_mode": {
    "name": "ipython",
    "version": 3
   },
   "file_extension": ".py",
   "mimetype": "text/x-python",
   "name": "python",
   "nbconvert_exporter": "python",
   "pygments_lexer": "ipython3",
   "version": "3.9.7"
  }
 },
 "nbformat": 4,
 "nbformat_minor": 5
}
